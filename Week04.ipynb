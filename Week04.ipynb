{
 "cells": [
  {
   "cell_type": "markdown",
   "metadata": {},
   "source": [
    "User Based Recommender - Lectures Week 4\n",
    "======\n",
    "\n",
    "# User filtered algorithms\n",
    "\n",
    "* our past tests predict our future\n",
    "\t* we have stable taste\n",
    "\t* our system is scoped within system of agreement - we agree on one thing then we agree on others\n",
    "* measure of inter-user agreement\n",
    "\t* correlation, vector cosine\n",
    "* personalised recommendations\n",
    "\t* weighted combinations of other ratings\n",
    "* we need tweaks to make stuff works\n",
    "* computation will be an issue\n",
    "\t* correlation of all users O(n)\n",
    "\t* pairwise correlations is O(m^2n)\n",
    "\t* recommendations > O(mn)\n",
    "\t* solutions \n",
    "\t\t* persistent neighbourhood (m -> k)\n",
    "\t\t* cached or incremental correlations\n",
    "\n",
    "# Basic user breakdown\n",
    "\n",
    "* prediction for user a using rating r and accounting for diference between users with weight w $p_{a,i} = \\frac{\\sum_{u=1} ^n r_{u,i} w_{u,i}}{\\sum_{u=1} ^n w_{u,i} }$\n",
    "* another approach is to estimate relative likeness from each user and from there estimate it for each user\n",
    "\t* $p_{a,i} = \\frac{\\sum_{u=1} ^n (r_{u,i} -\\overline{r_u})}{n}$\n",
    "\t* $p_{a,i} = \\overline{r_a} + \\frac{\\sum_{u=1} ^n (r_{u,i} -\\overline{r_u})w_{u,i} }{\\sum_{u=1} ^n w_{u,i} }$\n",
    "\t* such normalisation has been measured to account for 50% of total accuracy in presonal collaborative filtering\n",
    "* the best way to calculate weight is to calculate Pearson correlation coefficient\n",
    "$\\frac{cov(X,Y)}{\\sigma_X \\sigma_Y} = \\frac{\\sum_{u=1} ^n [(X-\\mu X)(Y-\\mu X)]}{\\sigma_X  \\sigma_Y}$\n",
    "\t* problems are when m is mall\n",
    "\t* it will not work with unary data\n",
    "\t* it work best with extremities (we both like/hate this)\n",
    "\n"
   ]
  },
  {
   "cell_type": "markdown",
   "metadata": {},
   "source": [
    "# Assignment 3: User-User Collaborative Filtering\n",
    "\n",
    "Excel file provided has the same table twice, transposed. I will only use movie-row here.\n",
    "\n",
    "## Read File"
   ]
  },
  {
   "cell_type": "code",
   "execution_count": 1,
   "metadata": {
    "collapsed": false
   },
   "outputs": [],
   "source": [
    "import pandas as pd\n",
    "import pylab\n",
    "import matplotlib.pyplot as plt\n",
    "import seaborn as sns\n",
    "import numpy as np\n",
    "import scipy\n",
    "import copy\n",
    "\n",
    "#import pdb #debuggera\n",
    "%matplotlib inline\n",
    "\n",
    "from __future__ import division #so I can have float as std and int as //"
   ]
  },
  {
   "cell_type": "code",
   "execution_count": 15,
   "metadata": {
    "collapsed": false,
    "scrolled": false
   },
   "outputs": [
    {
     "name": "stdout",
     "output_type": "stream",
     "text": [
      "reading Assignment3.csv\n"
     ]
    },
    {
     "data": {
      "text/html": [
       "<div>\n",
       "<table border=\"1\" class=\"dataframe\">\n",
       "  <thead>\n",
       "    <tr style=\"text-align: right;\">\n",
       "      <th></th>\n",
       "      <th>MovieID</th>\n",
       "      <th>1648</th>\n",
       "      <th>5136</th>\n",
       "      <th>918</th>\n",
       "      <th>2824</th>\n",
       "      <th>3867</th>\n",
       "      <th>860</th>\n",
       "      <th>3712</th>\n",
       "      <th>2968</th>\n",
       "      <th>3525</th>\n",
       "      <th>...</th>\n",
       "      <th>3556</th>\n",
       "      <th>5261</th>\n",
       "      <th>2492</th>\n",
       "      <th>5062</th>\n",
       "      <th>2486</th>\n",
       "      <th>4942</th>\n",
       "      <th>2267</th>\n",
       "      <th>4809</th>\n",
       "      <th>3853</th>\n",
       "      <th>2288</th>\n",
       "    </tr>\n",
       "  </thead>\n",
       "  <tbody>\n",
       "    <tr>\n",
       "      <th>0</th>\n",
       "      <td>11: Star Wars: Episode IV - A New Hope (1977)</td>\n",
       "      <td>NaN</td>\n",
       "      <td>4.5</td>\n",
       "      <td>5.0</td>\n",
       "      <td>4.5</td>\n",
       "      <td>4.0</td>\n",
       "      <td>4.0</td>\n",
       "      <td>NaN</td>\n",
       "      <td>5.0</td>\n",
       "      <td>4.0</td>\n",
       "      <td>...</td>\n",
       "      <td>4</td>\n",
       "      <td>NaN</td>\n",
       "      <td>4.5</td>\n",
       "      <td>4.0</td>\n",
       "      <td>3.5</td>\n",
       "      <td>NaN</td>\n",
       "      <td>NaN</td>\n",
       "      <td>NaN</td>\n",
       "      <td>NaN</td>\n",
       "      <td>NaN</td>\n",
       "    </tr>\n",
       "    <tr>\n",
       "      <th>1</th>\n",
       "      <td>12: Finding Nemo (2003)</td>\n",
       "      <td>NaN</td>\n",
       "      <td>5.0</td>\n",
       "      <td>5.0</td>\n",
       "      <td>NaN</td>\n",
       "      <td>4.0</td>\n",
       "      <td>4.0</td>\n",
       "      <td>4.5</td>\n",
       "      <td>4.5</td>\n",
       "      <td>4.0</td>\n",
       "      <td>...</td>\n",
       "      <td>4</td>\n",
       "      <td>NaN</td>\n",
       "      <td>3.5</td>\n",
       "      <td>4.0</td>\n",
       "      <td>2.0</td>\n",
       "      <td>3.5</td>\n",
       "      <td>NaN</td>\n",
       "      <td>NaN</td>\n",
       "      <td>NaN</td>\n",
       "      <td>3.5</td>\n",
       "    </tr>\n",
       "    <tr>\n",
       "      <th>2</th>\n",
       "      <td>13: Forrest Gump (1994)</td>\n",
       "      <td>NaN</td>\n",
       "      <td>5.0</td>\n",
       "      <td>4.5</td>\n",
       "      <td>5.0</td>\n",
       "      <td>4.5</td>\n",
       "      <td>4.5</td>\n",
       "      <td>NaN</td>\n",
       "      <td>5.0</td>\n",
       "      <td>4.5</td>\n",
       "      <td>...</td>\n",
       "      <td>4</td>\n",
       "      <td>5.0</td>\n",
       "      <td>3.5</td>\n",
       "      <td>4.5</td>\n",
       "      <td>4.5</td>\n",
       "      <td>4.0</td>\n",
       "      <td>3.5</td>\n",
       "      <td>4.5</td>\n",
       "      <td>3.5</td>\n",
       "      <td>3.5</td>\n",
       "    </tr>\n",
       "    <tr>\n",
       "      <th>3</th>\n",
       "      <td>14: American Beauty (1999)</td>\n",
       "      <td>NaN</td>\n",
       "      <td>4.0</td>\n",
       "      <td>NaN</td>\n",
       "      <td>NaN</td>\n",
       "      <td>NaN</td>\n",
       "      <td>NaN</td>\n",
       "      <td>4.5</td>\n",
       "      <td>2.0</td>\n",
       "      <td>3.5</td>\n",
       "      <td>...</td>\n",
       "      <td>4</td>\n",
       "      <td>NaN</td>\n",
       "      <td>3.5</td>\n",
       "      <td>4.5</td>\n",
       "      <td>3.5</td>\n",
       "      <td>4.0</td>\n",
       "      <td>NaN</td>\n",
       "      <td>3.5</td>\n",
       "      <td>NaN</td>\n",
       "      <td>NaN</td>\n",
       "    </tr>\n",
       "    <tr>\n",
       "      <th>4</th>\n",
       "      <td>22: Pirates of the Caribbean: The Curse of the...</td>\n",
       "      <td>4</td>\n",
       "      <td>5.0</td>\n",
       "      <td>3.0</td>\n",
       "      <td>4.5</td>\n",
       "      <td>4.0</td>\n",
       "      <td>2.5</td>\n",
       "      <td>NaN</td>\n",
       "      <td>5.0</td>\n",
       "      <td>3.0</td>\n",
       "      <td>...</td>\n",
       "      <td>3</td>\n",
       "      <td>1.5</td>\n",
       "      <td>4.0</td>\n",
       "      <td>4.0</td>\n",
       "      <td>2.5</td>\n",
       "      <td>3.5</td>\n",
       "      <td>NaN</td>\n",
       "      <td>5.0</td>\n",
       "      <td>NaN</td>\n",
       "      <td>3.5</td>\n",
       "    </tr>\n",
       "  </tbody>\n",
       "</table>\n",
       "<p>5 rows × 26 columns</p>\n",
       "</div>"
      ],
      "text/plain": [
       "                                             MovieID  1648  5136  918  2824  \\\n",
       "0      11: Star Wars: Episode IV - A New Hope (1977)   NaN   4.5  5.0   4.5   \n",
       "1                            12: Finding Nemo (2003)   NaN   5.0  5.0   NaN   \n",
       "2                            13: Forrest Gump (1994)   NaN   5.0  4.5   5.0   \n",
       "3                         14: American Beauty (1999)   NaN   4.0  NaN   NaN   \n",
       "4  22: Pirates of the Caribbean: The Curse of the...     4   5.0  3.0   4.5   \n",
       "\n",
       "   3867  860  3712  2968  3525  ...   3556  5261  2492  5062  2486  4942  \\\n",
       "0   4.0  4.0   NaN   5.0   4.0  ...      4   NaN   4.5   4.0   3.5   NaN   \n",
       "1   4.0  4.0   4.5   4.5   4.0  ...      4   NaN   3.5   4.0   2.0   3.5   \n",
       "2   4.5  4.5   NaN   5.0   4.5  ...      4   5.0   3.5   4.5   4.5   4.0   \n",
       "3   NaN  NaN   4.5   2.0   3.5  ...      4   NaN   3.5   4.5   3.5   4.0   \n",
       "4   4.0  2.5   NaN   5.0   3.0  ...      3   1.5   4.0   4.0   2.5   3.5   \n",
       "\n",
       "   2267  4809  3853  2288  \n",
       "0   NaN   NaN   NaN   NaN  \n",
       "1   NaN   NaN   NaN   3.5  \n",
       "2   3.5   4.5   3.5   3.5  \n",
       "3   NaN   3.5   NaN   NaN  \n",
       "4   NaN   5.0   NaN   3.5  \n",
       "\n",
       "[5 rows x 26 columns]"
      ]
     },
     "execution_count": 15,
     "metadata": {},
     "output_type": "execute_result"
    }
   ],
   "source": [
    "dataFile = \"Assignment3.csv\"\n",
    "print(\"reading %s\" % dataFile)\n",
    "dfData = pd.read_csv(dataFile, delimiter = \",\", error_bad_lines=True, encoding = 'utf-8-sig',na_values = [\"NULL\",\"\"],header =0);\n",
    "dfData.head()"
   ]
  },
  {
   "cell_type": "markdown",
   "metadata": {},
   "source": [
    "# Part 1 - Without Normalization\n",
    "\n",
    "Implement user-user collaborative filtering without normalization.\n",
    "\n",
    "* Complete the user-by-user correlations matrix\n",
    "* Identify the top 5 neighbors (the users with the 5 largest, positive correlations) for users 3867 and 89"
   ]
  },
  {
   "cell_type": "code",
   "execution_count": 31,
   "metadata": {
    "collapsed": false
   },
   "outputs": [],
   "source": [
    "#find top 5 correlations for the specific user\n",
    "def GetTopFive(user):\n",
    "    user.sort(ascending=False)\n",
    "    top5 = user.head(6) #get top6\n",
    "    top5 = top5.tail(-1) #remove 1st - autocorr with itself\n",
    "    return top5"
   ]
  },
  {
   "cell_type": "code",
   "execution_count": 36,
   "metadata": {
    "collapsed": true
   },
   "outputs": [],
   "source": [
    "#nice corelation plot based on internet code\n",
    "def MakeNiceCorrPlot(pandaDF):\n",
    "\tcorr = pandaDF.corr()\n",
    "\n",
    "\t# Generate a mask for the upper triangle\n",
    "\tmask = np.zeros_like(corr, dtype=np.bool)\n",
    "\tmask[np.triu_indices_from(mask)] = True\n",
    "\n",
    "\t# Set up the matplotlib figure\n",
    "\tf, ax = plt.subplots(figsize=(11, 9))\n",
    "\n",
    "\t# Draw the heatmap with the mask and correct aspect ratio\n",
    "\tsns.heatmap(corr, mask=mask, cmap=\"gist_rainbow\", vmax=.3,square=True,linewidths=.5, cbar_kws={\"shrink\": .5}, ax=ax); \n",
    "\t# xticklabels=5, yticklabels=5,  \n"
   ]
  },
  {
   "cell_type": "code",
   "execution_count": 37,
   "metadata": {
    "collapsed": false,
    "scrolled": false
   },
   "outputs": [
    {
     "data": {
      "image/png": "[encoded data removed]",
      "text/plain": [
       "<matplotlib.figure.Figure at 0x1c7302b0>"
      ]
     },
     "metadata": {},
     "output_type": "display_data"
    }
   ],
   "source": [
    "corrMatrix = dfData.corr()\n",
    "MakeNiceCorrPlot(dfData)\n",
    "#corrMatrix.columns\n",
    "user1= corrMatrix.ix['3867',:]\n",
    "user2= corrMatrix.ix['89',:]\n",
    "\n",
    "user1 = GetTopFive(user1)\n",
    "user2 = GetTopFive(user2)"
   ]
  },
  {
   "cell_type": "markdown",
   "metadata": {
    "collapsed": false
   },
   "source": [
    "* compute the predictions for each movie for users 3867 and 89 by taking the correlation-weighted average of the ratings of the top-five neighbors"
   ]
  },
  {
   "cell_type": "code",
   "execution_count": 76,
   "metadata": {
    "collapsed": false
   },
   "outputs": [],
   "source": [
    "def userProfile(preferecesData,userVotes):\n",
    "  cols = [pd.DataFrame(preferecesData[col].values * userVotes.values, columns=[col]) for col in preferecesData]\n",
    "  votes = cols[0].join(cols[1:])\n",
    "  votes = votes.sum()\n",
    "\n",
    "  return votes"
   ]
  }
 ],
 "metadata": {
  "kernelspec": {
   "display_name": "Python 2",
   "language": "python",
   "name": "python2"
  },
  "language_info": {
   "codemirror_mode": {
    "name": "ipython",
    "version": 2
   },
   "file_extension": ".py",
   "mimetype": "text/x-python",
   "name": "python",
   "nbconvert_exporter": "python",
   "pygments_lexer": "ipython2",
   "version": "2.7.10"
  }
 },
 "nbformat": 4,
 "nbformat_minor": 0
}
