{
 "cells": [
  {
   "cell_type": "code",
   "execution_count": 5,
   "metadata": {
    "collapsed": true
   },
   "outputs": [],
   "source": [
    "import pandas as pd\n",
    "import pylab\n",
    "import matplotlib.pyplot as plt\n",
    "import matplotlib\n",
    "matplotlib.style.use('ggplot')\n",
    "#import seaborn as sns\n",
    "import numpy as np\n",
    "%matplotlib inline"
   ]
  },
  {
   "cell_type": "markdown",
   "metadata": {},
   "source": [
    "#Lectures\n",
    "\n",
    "\n",
    "\n",
    "## Information retrieval\n",
    "\n",
    "* collecting data mostly from user\n",
    "\t* activities - explicit ratings\n",
    "\t\t- star ratings\n",
    "\t\t- implementation can vary a lot, calibration (what does star means)\n",
    "\t\t- more info not especially better here\n",
    "\t* thumbs and like\n",
    "\t* reddit it is only up/down votes\n",
    "\t* pairwise preferences, hybrid, temporary\n",
    "\n",
    "* when are the ratings provided?\n",
    "\t* consumption\n",
    "\t* memory\n",
    "\t* expectations - for v expensive items, when users don't buy it\n",
    "\n",
    "* difficulties\n",
    "\t*\taccuracy (noise, shifts, change in preferences)\n",
    "\t*\twhat does ratings mean?\n",
    "\t* more page views than feedbacks\n",
    "\t* use user behaviour to estimate feedback\n",
    "\t* user binary feedback\n",
    "\t* implicit data benefit from large volume and its easier to collect then explicit data\n",
    "\t* purchases and other user actions (implicit consumption-based)\n",
    "\t* follows/friends\n",
    "\t* how we scale and represent actions\n",
    "\t* respect privacy and educate\n",
    "\n",
    "##Prediction vs recommendation\n",
    "\n",
    "* prediction - predicts how much u like item\n",
    "\t* helps qualify item\n",
    "* recommendation - defines items you might like, makes the suggestion\n",
    "\t* we are given items (list of top n) not predictions (%)\n",
    "\t* so it is always tie to interest or activity\n",
    "\t* if you don't like it you don't trust it\n",
    "\t* might feel too pushy - we like our privacy so soft approach might be easier\n",
    "\n",
    "## computing rank\n",
    "\n",
    "* how confident are you that item is good?\n",
    "* what are your risk tolerances?\n",
    "* specific requirements of community\n",
    "* using damped means\n",
    "\t- $\\frac{\\sum_u r_{ui} +k\\mu }{ n+k }$\n",
    "\t- without evidence everything is average\n",
    "* use confidence interval\n",
    "\t- you recommendation is based in lower band of your interval\n",
    "* use time\n",
    "\t- make earlier votes more important than later votes\n",
    "\t- this will decrease influence of new votes for highly voted items\n",
    "* damping results so we can influence results for community interest sake \n",
    "\n",
    "\n",
    "\n"
   ]
  },
  {
   "cell_type": "markdown",
   "metadata": {},
   "source": [
    "# Assigment"
   ]
  },
  {
   "cell_type": "code",
   "execution_count": 2,
   "metadata": {
    "collapsed": true
   },
   "outputs": [],
   "source": [
    "from collections import defaultdict, deque\n",
    "\n",
    "\n",
    "class Graph(object):\n",
    "    def __init__(self):\n",
    "        self.nodes = set()\n",
    "        self.edges = defaultdict(list)\n",
    "        self.distances = {}\n",
    "\n",
    "    def add_node(self, value):\n",
    "        self.nodes.add(value)\n",
    "\n",
    "    def add_edge(self, from_node, to_node, distance):\n",
    "        self.edges[from_node].append(to_node)\n",
    "        self.edges[to_node].append(from_node)\n",
    "        self.distances[(from_node, to_node)] = distance\n",
    "\n",
    "\n",
    "def dijkstra(graph, initial):\n",
    "    visited = {initial: 0}\n",
    "    path = {}\n",
    "\n",
    "    nodes = set(graph.nodes)\n",
    "\n",
    "    while nodes:\n",
    "        min_node = None\n",
    "        for node in nodes:\n",
    "            if node in visited:\n",
    "                if min_node is None:\n",
    "                    min_node = node\n",
    "                elif visited[node] < visited[min_node]:\n",
    "                    min_node = node\n",
    "        if min_node is None:\n",
    "            break\n",
    "\n",
    "        nodes.remove(min_node)\n",
    "        current_weight = visited[min_node]\n",
    "\n",
    "        for edge in graph.edges[min_node]:\n",
    "            try:\n",
    "                weight = current_weight + graph.distances[(min_node, edge)]\n",
    "            except:\n",
    "                continue\n",
    "            if edge not in visited or weight < visited[edge]:\n",
    "                visited[edge] = weight\n",
    "                path[edge] = min_node\n",
    "\n",
    "    return visited, path\n",
    "\n",
    "\n",
    "def shortest_path(graph, origin, destination):\n",
    "    visited, paths = dijkstra(graph, origin)\n",
    "    full_path = deque()\n",
    "    _destination = paths[destination]\n",
    "\n",
    "    while _destination != origin:\n",
    "        full_path.appendleft(_destination)\n",
    "        _destination = paths[_destination]\n",
    "\n",
    "    full_path.appendleft(origin)\n",
    "    full_path.append(destination)\n",
    "\n",
    "    return visited[destination], list(full_path)"
   ]
  },
  {
   "cell_type": "markdown",
   "metadata": {},
   "source": [
    "Lets now test the algorythm to check if it all works"
   ]
  },
  {
   "cell_type": "code",
   "execution_count": 3,
   "metadata": {
    "collapsed": false
   },
   "outputs": [
    {
     "name": "stdout",
     "output_type": "stream",
     "text": [
      "(25, ['A', 'B', 'D'])\n"
     ]
    }
   ],
   "source": [
    "graph = Graph()\n",
    "\n",
    "for node in ['A', 'B', 'C', 'D', 'E', 'F', 'G']:\n",
    "    graph.add_node(node)\n",
    "\n",
    "graph.add_edge('A', 'B', 10)\n",
    "graph.add_edge('A', 'C', 20)\n",
    "graph.add_edge('B', 'D', 15)\n",
    "graph.add_edge('C', 'D', 30)\n",
    "graph.add_edge('B', 'E', 50)\n",
    "graph.add_edge('D', 'E', 30)\n",
    "graph.add_edge('E', 'F', 5)\n",
    "graph.add_edge('F', 'G', 2)\n",
    "\n",
    "print(shortest_path(graph, 'A', 'D'))"
   ]
  },
  {
   "cell_type": "markdown",
   "metadata": {},
   "source": [
    "What is the next step - I like to use native python library instead so I will now implement following [existing work on internet](http://interactivepython.org/runestone/static/pythonds/Graphs/DijkstrasAlgorithm.html)\n",
    "I will also write some code to visualise my graphs"
   ]
  },
  {
   "cell_type": "code",
   "execution_count": 7,
   "metadata": {
    "collapsed": false
   },
   "outputs": [
    {
     "name": "stdout",
     "output_type": "stream",
     "text": [
      "20 ['a', 'y', 'w', 'b']\n"
     ]
    }
   ],
   "source": [
    "import heapq\n",
    "\n",
    "def shortestPath(graph, start, end):\n",
    "    queue,seen = [(0, start, [])], set()\n",
    "    while True:\n",
    "        (cost, v, path) = heapq.heappop(queue)\n",
    "        if v not in seen:\n",
    "            path = path + [v]\n",
    "            seen.add(v)\n",
    "            if v == end:\n",
    "                return cost, path\n",
    "            for (next, c) in graph[v].iteritems():\n",
    "                heapq.heappush(queue, (cost + c, next, path))\n",
    "\t\t\t\n",
    "graph = { \n",
    "   'a': {'w': 14, 'x': 7, 'y': 9}, \n",
    "   'b': {'w': 9, 'z': 6}, \n",
    "   'w': {'a': 14, 'b': 9, 'y': 2}, \n",
    "   'x': {'a': 7, 'y': 10, 'z': 15}, \n",
    "   'y': {'a': 9, 'w': 2, 'x': 10, 'z': 11}, \n",
    "   'z': {'b': 6, 'x': 15, 'y': 11}, \n",
    "}\n",
    "cost, path = shortestPath(graph, 'a', 'b')\n",
    "print cost, path\n",
    "# Based on http://code.activestate.com/recipes/119466"
   ]
  }
 ],
 "metadata": {
  "kernelspec": {
   "display_name": "Python 2",
   "language": "python",
   "name": "python2"
  },
  "language_info": {
   "codemirror_mode": {
    "name": "ipython",
    "version": 2
   },
   "file_extension": ".py",
   "mimetype": "text/x-python",
   "name": "python",
   "nbconvert_exporter": "python",
   "pygments_lexer": "ipython2",
   "version": "2.7.11"
  }
 },
 "nbformat": 4,
 "nbformat_minor": 0
}
