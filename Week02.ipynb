{
 "cells": [
  {
   "cell_type": "code",
   "execution_count": 3,
   "metadata": {
    "collapsed": true
   },
   "outputs": [],
   "source": [
    "import pandas as pd\n",
    "import pylab\n",
    "import matplotlib.pyplot as plt\n",
    "import matplotlib\n",
    "matplotlib.style.use('ggplot')\n",
    "#import seaborn as sns\n",
    "import numpy as np\n",
    "%matplotlib inline"
   ]
  },
  {
   "cell_type": "markdown",
   "metadata": {},
   "source": [
    "#Lectures\n",
    "\n",
    "\n",
    "\n",
    "## Information retrieval\n",
    "\n",
    "* collecting data mostly from user\n",
    "\t* activities - explicit ratings\n",
    "\t\t- star ratings\n",
    "\t\t- implementation can vary a lot, calibration (what does star means)\n",
    "\t\t- more info not especially better here\n",
    "\t* thumbs and like\n",
    "\t* reddit it is only up/down votes\n",
    "\t* pairwise preferences, hybrid, temporary\n",
    "\n",
    "* when are the ratings provided?\n",
    "\t* consumption\n",
    "\t* memory\n",
    "\t* expectations - for v expensive items, when users don't buy it\n",
    "\n",
    "* difficulties\n",
    "\t*\taccuracy (noise, shifts, change in preferences)\n",
    "\t*\twhat does ratings mean?\n",
    "\t* more page views than feedbacks\n",
    "\t* use user behaviour to estimate feedback\n",
    "\t* user binary feedback\n",
    "\t* implicit data benefit from large volume and its easier to collect then explicit data\n",
    "\t* purchases and other user actions (implicit consumption-based)\n",
    "\t* follows/friends\n",
    "\t* how we scale and represent actions\n",
    "\t* respect privacy and educate\n",
    "\n",
    "##Prediction vs recommendation\n",
    "\n",
    "* prediction - predicts how much u like item\n",
    "\t* helps qualify item\n",
    "* recommendation - defines items you might like, makes the suggestion\n",
    "\t* we are given items (list of top n) not predictions (%)\n",
    "\t* so it is always tie to interest or activity\n",
    "\t* if you don't like it you don't trust it\n",
    "\t* might feel too pushy - we like our privacy so soft approach might be easier\n",
    "\n",
    "## computing rank\n",
    "\n",
    "* how confident are you that item is good?\n",
    "* what are your risk tolerances?\n",
    "* specific requirements of community\n",
    "* using damped means\n",
    "\t- $\\frac{\\sum_u r_{ui} +k\\mu }{ n+k }$\n",
    "\t- without evidence everything is average\n",
    "* use confidence interval\n",
    "\t- you recommendation is based in lower band of your interval\n",
    "* use time\n",
    "\t- make earlier votes more important than later votes\n",
    "\t- this will decrease influence of new votes for highly voted items\n",
    "* damping results so we can influence results for community interest sake \n",
    "\n",
    "\n",
    "\n"
   ]
  },
  {
   "cell_type": "markdown",
   "metadata": {},
   "source": [
    "# Assigment"
   ]
  },
  {
   "cell_type": "code",
   "execution_count": null,
   "metadata": {
    "collapsed": true
   },
   "outputs": [],
   "source": []
  }
 ],
 "metadata": {
  "kernelspec": {
   "display_name": "Python 2",
   "language": "python",
   "name": "python2"
  },
  "language_info": {
   "codemirror_mode": {
    "name": "ipython",
    "version": 2
   },
   "file_extension": ".py",
   "mimetype": "text/x-python",
   "name": "python",
   "nbconvert_exporter": "python",
   "pygments_lexer": "ipython2",
   "version": "2.7.11"
  }
 },
 "nbformat": 4,
 "nbformat_minor": 0
}
