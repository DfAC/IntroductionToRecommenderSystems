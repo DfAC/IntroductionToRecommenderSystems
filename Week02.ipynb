{
 "cells": [
  {
   "cell_type": "code",
   "execution_count": 3,
   "metadata": {
    "collapsed": true
   },
   "outputs": [],
   "source": [
    "import pandas as pd\n",
    "import pylab\n",
    "import matplotlib.pyplot as plt\n",
    "import matplotlib\n",
    "matplotlib.style.use('ggplot')\n",
    "#import seaborn as sns\n",
    "import numpy as np\n",
    "%matplotlib inline"
   ]
  },
  {
   "cell_type": "markdown",
   "metadata": {},
   "source": [
    "# Lectures\n",
    "\n",
    "\n",
    "\n",
    "## Information retrieval\n",
    "\n",
    "* collecting data mostly from user\n",
    "\t* activities - explicit ratings\n",
    "\t\t- star ratings\n",
    "\t\t- implementation can vary a lot, calibration (what does star means)\n",
    "\t\t- more info not especially better here\n",
    "\t* thumbs and like\n",
    "\t* reddit it is only up/down votes\n",
    "\t* pairwise preferences, hybrid, temporary\n",
    "\n",
    "* when are the ratings provided?\n",
    "\t* consumption\n",
    "\t* memory\n",
    "\t* expectations - for v expensive items, when users don't buy it\n",
    "\n",
    "* difficulties\n",
    "\t*\taccuracy (noise, shifts, change in preferences)\n",
    "\t*\twhat does ratings mean?\n",
    "\t* more page views than feedbacks\n",
    "\t* use user behaviour to estimate feedback\n",
    "\t* user binary feedback\n",
    "\t* implicit data benefit from large volume and its easier to collect then explicit data\n",
    "\t* purchases and other user actions (implicit consumption-based)\n",
    "\t* follows/friends\n",
    "\t* how we scale and represent actions\n",
    "\t* respect privacy and educate\n",
    "\n",
    "##Prediction vs recommendation\n",
    "\n",
    "* prediction - predicts how much u like item\n",
    "\t* helps qualify item\n",
    "* recommendation - defines items you might like, makes the suggestion\n",
    "\t* we are given items (list of top n) not predictions (%)\n",
    "\t* so it is always tie to interest or activity\n",
    "\t* if you don't like it you don't trust it\n",
    "\t* might feel too pushy - we like our privacy so soft approach might be easier\n",
    "\n",
    "## computing rank\n",
    "\n",
    "* how confident are you that item is good?\n",
    "* what are your risk tolerances?\n",
    "* specific requirements of community\n",
    "* using damped means\n",
    "\t- $\\frac{\\sum_u r_{ui} +k\\mu }{ n+k }$\n",
    "\t- without evidence everything is average\n",
    "* use confidence interval\n",
    "\t- you recommendation is based in lower band of your interval\n",
    "* use time\n",
    "\t- make earlier votes more important than later votes\n",
    "\t- this will decrease influence of new votes for highly voted items\n",
    "* damping results so we can influence results for community interest sake \n",
    "\n",
    "\n",
    "## Extra reading\n",
    "\n",
    "* <http://www.evanmiller.org/how-not-to-sort-by-average-rating.html>\n"
   ]
  },
  {
   "cell_type": "markdown",
   "metadata": {},
   "source": [
    "# Assignment 1: Non-Personalized Recommenders\n",
    "\n",
    "Submit a list of the top 5 movies as ranked by a following metrics:\n",
    "\n",
    "1. Mean Rating: Calculate the mean rating for each movie, order with the highest rating listed first, and submit the top 5.\n",
    "2. % of ratings 4+: Calculate the percentage of ratings for each movie that are 4 or higher. Order with the highest percentage first, and submit the top 5.\n",
    "1. Rating Count: Count the number of ratings for each movie, order with the most number of ratings first, and submit the top 5.\n",
    "1. Top 5 Star Wars: Calculate movies that most often occur with Star Wars: Episode IV - A New Hope (1977) using the $\\frac{x+y}{x}$ method described in class. In other words, for each movie, calculate the percentage of Star Wars raters who also rated that movie. Order with the highest percentage first, and submit the top 5.\n",
    "\n",
    "\n",
    "## Read File"
   ]
  },
  {
   "cell_type": "code",
   "execution_count": 48,
   "metadata": {
    "collapsed": false
   },
   "outputs": [],
   "source": [
    "import pandas as pd\n",
    "import pylab\n",
    "import matplotlib.pyplot as plt\n",
    "import seaborn as sns\n",
    "import numpy as np\n",
    "import scipy\n",
    "import copy\n",
    "\n",
    "#import pdb #debuggera\n",
    "%matplotlib inline\n",
    "\n",
    "from __future__ import division #so I can have float as std and int as //"
   ]
  },
  {
   "cell_type": "code",
   "execution_count": 60,
   "metadata": {
    "collapsed": false,
    "scrolled": true
   },
   "outputs": [
    {
     "name": "stdout",
     "output_type": "stream",
     "text": [
      "reading A1Ratings.csv\n"
     ]
    }
   ],
   "source": [
    "dataFile = \"A1Ratings.csv\"\n",
    "print(\"reading %s\" % dataFile)\n",
    "dfData = pd.read_csv(dataFile, delimiter = \",\", error_bad_lines=True, encoding = 'utf-8-sig',na_values = [\"NULL\",\"\"],header =0);"
   ]
  },
  {
   "cell_type": "markdown",
   "metadata": {},
   "source": [
    "## Metric one - mean rating\n",
    "Calculate the mean rating for each movie, order with the highest rating listed first, and submit the top 5."
   ]
  },
  {
   "cell_type": "code",
   "execution_count": 61,
   "metadata": {
    "collapsed": false
   },
   "outputs": [
    {
     "name": "stdout",
     "output_type": "stream",
     "text": [
      "318: Shawshank Redemption, The (1994)             3.600000\n",
      "260: Star Wars: Episode IV - A New Hope (1977)    3.266667\n",
      "541: Blade Runner (1982)                          3.222222\n",
      "1265: Groundhog Day (1993)                        3.166667\n",
      "593: Silence of the Lambs, The (1991)             3.062500\n",
      "dtype: float64\n"
     ]
    }
   ],
   "source": [
    "#dfData.iloc[1] #2nd col (1st movie)\n",
    "meanRatings = dfData.iloc[:,1:].mean()\n",
    "meanRatings.sort_values(inplace=True, ascending=False )\n",
    "print meanRatings.head(5)\n",
    "#meanRatings.head()"
   ]
  },
  {
   "cell_type": "markdown",
   "metadata": {},
   "source": [
    "## Metric two  - Rating Count: \n",
    "\n",
    "Count the number of ratings for each movie, order with the most number of ratings first, and submit the top 5."
   ]
  },
  {
   "cell_type": "code",
   "execution_count": 80,
   "metadata": {
    "collapsed": false
   },
   "outputs": [
    {
     "data": {
      "text/plain": [
       "1: Toy Story (1995)                                        17\n",
       "593: Silence of the Lambs, The (1991)                      16\n",
       "260: Star Wars: Episode IV - A New Hope (1977)             15\n",
       "1210: Star Wars: Episode VI - Return of the Jedi (1983)    14\n",
       "780: Independence Day (ID4) (1996)                         13\n",
       "dtype: int64"
      ]
     },
     "execution_count": 80,
     "metadata": {},
     "output_type": "execute_result"
    }
   ],
   "source": [
    "ratingCount = dfData.iloc[:,1:].count()\n",
    "ratingCount.sort_values(inplace=True, ascending=False ) \n",
    "ratingCount.head(5)"
   ]
  },
  {
   "cell_type": "markdown",
   "metadata": {},
   "source": [
    "## Metric three  - % of ratings 4+\n",
    "\n",
    "Calculate the percentage of ratings for each movie that are 4 or higher and submit the top 5."
   ]
  },
  {
   "cell_type": "code",
   "execution_count": 85,
   "metadata": {
    "collapsed": false,
    "scrolled": true
   },
   "outputs": [
    {
     "data": {
      "text/plain": [
       "318: Shawshank Redemption, The (1994)             70.000000\n",
       "260: Star Wars: Episode IV - A New Hope (1977)    53.333333\n",
       "3578: Gladiator (2000)                            50.000000\n",
       "541: Blade Runner (1982)                          44.444444\n",
       "593: Silence of the Lambs, The (1991)             43.750000\n",
       "dtype: float64"
      ]
     },
     "execution_count": 85,
     "metadata": {},
     "output_type": "execute_result"
    }
   ],
   "source": [
    "positiveRating = dfData.iloc[:,1:].where(dfData>3).count() \n",
    "ratingCount = dfData.iloc[:,1:].count()\n",
    "positiveRating = positiveRating * 100/ratingCount\n",
    "\n",
    "positiveRating.sort_values(inplace=True, ascending=False)\n",
    "positiveRating.head(5)"
   ]
  },
  {
   "cell_type": "markdown",
   "metadata": {},
   "source": [
    "## Metric four  - Top 5 Star Wars\n",
    "\n",
    "Calculate movies that most often occur with Star Wars: Episode IV - A New Hope (1977) using method described in class. In other words, for each movie, calculate the percentage of Star Wars raters who also rated that movie. Order with the highest percentage first, and submit the top 5.\n",
    "\n",
    "Method is to count all users that voted both for SW and other movie and divide by no of users that voted for star wars. So its simple Bayean $P(y|SW) =  \\frac{P(SW|y)P(y)}{P(SW)}$ = $\\frac{count Y\\&SW users}{count SW users}$.\n",
    "\n",
    "How to solve it?\n",
    "\n",
    "1. Find users that voted for each movie using masks. \n",
    "1. Compare masks with each other (using OR as we are only interested in users who seen both (TT))."
   ]
  },
  {
   "cell_type": "code",
   "execution_count": 135,
   "metadata": {
    "collapsed": false,
    "scrolled": true
   },
   "outputs": [],
   "source": [
    "#define votes for each movie\n",
    "maskStarWars = np.logical_not(dfData.iloc[:,1].isnull()) #true means that user voted on movie\n",
    "maskOthers = np.logical_not(dfData.iloc[:,2:].isnull())\n",
    "\n",
    "#compare each col with mask\n",
    "checkSimiliarity = maskOthers.apply(lambda x: x & maskStarWars) \n",
    "#need to use OR as only True True counts (person voted on both movies"
   ]
  },
  {
   "cell_type": "code",
   "execution_count": 144,
   "metadata": {
    "collapsed": false
   },
   "outputs": [
    {
     "data": {
      "text/plain": [
       "1: Toy Story (1995)                                        93.333333\n",
       "1210: Star Wars: Episode VI - Return of the Jedi (1983)    86.666667\n",
       "593: Silence of the Lambs, The (1991)                      80.000000\n",
       "780: Independence Day (ID4) (1996)                         73.333333\n",
       "2916: Total Recall (1990)                                  66.666667\n",
       "dtype: float64"
      ]
     },
     "execution_count": 144,
     "metadata": {},
     "output_type": "execute_result"
    }
   ],
   "source": [
    "similiarityToSW = checkSimiliarity.sum()\n",
    "howManyRatedSW = maskStarWars.sum()\n",
    "\n",
    "similiarityToSW = similiarityToSW * 100/howManyRatedSW\n",
    "similiarityToSW[1]\n",
    "similiarityToSW.sort_values(inplace=True,ascending=False)\n",
    "similiarityToSW.head(5)"
   ]
  }
 ],
 "metadata": {
  "kernelspec": {
   "display_name": "Python 2",
   "language": "python",
   "name": "python2"
  },
  "language_info": {
   "codemirror_mode": {
    "name": "ipython",
    "version": 2
   },
   "file_extension": ".py",
   "mimetype": "text/x-python",
   "name": "python",
   "nbconvert_exporter": "python",
   "pygments_lexer": "ipython2",
   "version": "2.7.11"
  }
 },
 "nbformat": 4,
 "nbformat_minor": 0
}
